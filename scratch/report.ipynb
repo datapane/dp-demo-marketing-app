{
 "cells": [
  {
   "cell_type": "code",
   "execution_count": null,
   "id": "306e3d92-c711-48bd-954b-c741a5221a8b",
   "metadata": {
    "tags": []
   },
   "outputs": [],
   "source": [
    "import datetime\n",
    "import json\n",
    "import locale\n",
    "import os\n",
    "import textwrap\n",
    "from zoneinfo import ZoneInfo\n",
    "\n",
    "import datapane as dp\n",
    "import numpy as np\n",
    "import pandas as pd\n",
    "from datapane_components import calendar_heatmap\n",
    "from dateutil.relativedelta import relativedelta\n",
    "\n",
    "import analytics as a"
   ]
  },
  {
   "cell_type": "markdown",
   "id": "da787a52-c325-4ff1-aed3-931dc1accf37",
   "metadata": {},
   "source": [
    "## Dataset"
   ]
  },
  {
   "cell_type": "code",
   "execution_count": null,
   "id": "271827f6-8e37-47c5-84f3-bd2a7ad18a88",
   "metadata": {
    "tags": []
   },
   "outputs": [],
   "source": [
    "df_orders = pd.read_csv(\"data/order.csv\").set_index(\"Name\")\n",
    "df_items = pd.read_csv(\"data/items.csv\", low_memory=False).set_index(\"Name\")\n",
    "df_customers = pd.read_csv(\"data/cust.csv\").set_index(\"Cust_ID\")\n",
    "\n",
    "with open(\"data/zipcode_lookup.json\", \"r\") as f:\n",
    "    zipcode_lookup = json.load(f)\n",
    "\n",
    "df_zipcode_lookup = pd.DataFrame(zipcode_lookup).T"
   ]
  },
  {
   "cell_type": "markdown",
   "id": "f19545b4-d2b4-4b2e-9828-92b5a3664413",
   "metadata": {},
   "source": [
    "## Dates\n",
    "\n",
    "We'll create `datetime_now` to simulate running `datetime.now()` at the start of the PyData slot."
   ]
  },
  {
   "cell_type": "code",
   "execution_count": null,
   "id": "7f8beb98-f9ed-4f69-a76e-f40ec5b3381c",
   "metadata": {
    "tags": []
   },
   "outputs": [],
   "source": [
    "datetime_now = datetime.datetime(2023, 4, 27, 10, 15, 0, 0, tzinfo=ZoneInfo(\"US/Pacific\"))\n",
    "datetime_now"
   ]
  },
  {
   "cell_type": "markdown",
   "id": "4a4a1d16-0c3a-4802-98ed-6f03183a2db8",
   "metadata": {},
   "source": [
    "And we'll make our `datetime`s aware of the time zone."
   ]
  },
  {
   "cell_type": "code",
   "execution_count": null,
   "id": "203770b5-3ce2-433a-a710-988582ff8fb4",
   "metadata": {
    "tags": []
   },
   "outputs": [],
   "source": [
    "a.set_timezones(df_orders, [\"Created at\"])\n",
    "a.set_timezones(df_items, [\"Created at\"])\n",
    "a.set_timezones(df_customers, [\"first_order\", \"last_order\"])"
   ]
  },
  {
   "cell_type": "markdown",
   "id": "2ad5782d-afb3-48f8-b1ed-aa1c0b6867a1",
   "metadata": {
    "tags": []
   },
   "source": [
    "## Currency"
   ]
  },
  {
   "cell_type": "code",
   "execution_count": null,
   "id": "e00eda98-8887-4c1b-8381-2ae5afcfdd32",
   "metadata": {
    "tags": []
   },
   "outputs": [],
   "source": [
    "locale.setlocale(locale.LC_ALL, \"en_US.UTF-8\")"
   ]
  },
  {
   "cell_type": "markdown",
   "id": "478fac4f-7e04-4690-b10f-5e919a03e6b8",
   "metadata": {},
   "source": [
    "## Window"
   ]
  },
  {
   "cell_type": "markdown",
   "id": "71a9eb35-efae-4930-816e-fe8973095f09",
   "metadata": {},
   "source": [
    "Define a 30-day window."
   ]
  },
  {
   "cell_type": "code",
   "execution_count": null,
   "id": "7ba0c82c-0a16-4f8d-ae88-3d574e0513e3",
   "metadata": {
    "tags": []
   },
   "outputs": [],
   "source": [
    "window_end = datetime_now\n",
    "window_start = datetime_now - relativedelta(months=3)\n",
    "\n",
    "df_orders_window, df_orders_window_previous = a.get_window(df_orders, \"Created at\", window_start, window_end)\n",
    "df_items_window, df_items_window_previous = a.get_window(df_items, \"Created at\", window_start, window_end)\n",
    "df_customers_window, df_customers_window_previous = a.get_window(df_customers, \"first_order\", window_start, window_end)"
   ]
  },
  {
   "cell_type": "markdown",
   "id": "1f4634ce-938e-4f24-a958-d269c5a1f432",
   "metadata": {},
   "source": [
    "## Summary stats"
   ]
  },
  {
   "cell_type": "markdown",
   "id": "1e03fff0-0230-4333-a3a9-d2c69919063f",
   "metadata": {},
   "source": [
    "30 day stats (sales, aov, new customers, new orders, etc.)"
   ]
  },
  {
   "cell_type": "code",
   "execution_count": null,
   "id": "99d2dbbd-9dd3-49e8-a31a-3ada2303db26",
   "metadata": {
    "tags": []
   },
   "outputs": [],
   "source": [
    "(\n",
    "    stats_current_period,\n",
    "    stats_previous_period,\n",
    "    stats_delta,\n",
    "    stats_upward_change,\n",
    ") = a.get_summary_stats(\n",
    "    df_orders_window,\n",
    "    df_customers_window,\n",
    "    df_orders_window_previous,\n",
    "    df_customers_window_previous,\n",
    ")\n",
    "\n",
    "block_summary_stats = dp.Group(\n",
    "    dp.BigNumber(\n",
    "        \"Orders Created\",\n",
    "        f\"{stats_current_period['orders'].item():n}\",\n",
    "        f\"{stats_delta['orders'].item():n}\",\n",
    "        is_upward_change=stats_upward_change[\"orders\"].item(),\n",
    "    ),\n",
    "    dp.BigNumber(\n",
    "        \"Sales Completed\",\n",
    "        f\"{stats_current_period['sales'].item():n}\",\n",
    "        f\"{stats_delta['sales'].item():n}\",\n",
    "        is_upward_change=stats_upward_change[\"sales\"].item(),\n",
    "    ),\n",
    "    dp.BigNumber(\n",
    "        \"New Customers\",\n",
    "        f\"{stats_current_period['new_customers'].item():n}\",\n",
    "        f\"{stats_delta['new_customers'].item():n}\",\n",
    "        is_upward_change=stats_upward_change[\"new_customers\"].item(),\n",
    "    ),\n",
    "    dp.BigNumber(\n",
    "        \"Returning Customers\",\n",
    "        f\"{stats_current_period['returning_customers'].item():n}\",\n",
    "        f\"{stats_delta['returning_customers'].item():n}\",\n",
    "        is_upward_change=stats_upward_change[\"returning_customers\"].item(),\n",
    "    ),\n",
    "    dp.BigNumber(\n",
    "        \"Revenue Generated\",\n",
    "        locale.currency(stats_current_period[\"revenue\"].item(), grouping=True),\n",
    "        locale.currency(stats_delta[\"revenue\"].item(), grouping=True),\n",
    "        is_upward_change=stats_upward_change[\"revenue\"].item(),\n",
    "    ),\n",
    "    dp.BigNumber(\n",
    "        \"AOV\",\n",
    "        locale.currency(stats_current_period[\"aov\"].item(), grouping=True),\n",
    "        locale.currency(stats_delta[\"aov\"].item(), grouping=True),\n",
    "        is_upward_change=stats_upward_change[\"aov\"].item(),\n",
    "    ),\n",
    "    columns=3,\n",
    ")\n",
    "\n",
    "block_summary_stats"
   ]
  },
  {
   "cell_type": "markdown",
   "id": "5a462e3d-bc38-4e48-b9af-0a3261845e8a",
   "metadata": {},
   "source": [
    "## Audiences\n",
    "\n",
    "Top 10% of customers, Most frequent purchasers, top country, top product, etc."
   ]
  },
  {
   "cell_type": "code",
   "execution_count": null,
   "id": "c41c577a-3b95-47ee-b92e-6508afec0088",
   "metadata": {
    "tags": []
   },
   "outputs": [],
   "source": [
    "plot_customer_locations = a.plot_customer_locations(df_customers, 20, df_zipcode_lookup)\n",
    "plot_customer_locations"
   ]
  },
  {
   "cell_type": "code",
   "execution_count": null,
   "id": "0b2e6f2d-0505-4d22-bb5e-88344edbb084",
   "metadata": {
    "tags": []
   },
   "outputs": [],
   "source": [
    "orders_by_customer = (\n",
    "    (df_orders_window[\"Cust_ID\"].value_counts().value_counts().rename_axis(\"unique_values\").to_frame(\"counts\"))\n",
    "    .reset_index()\n",
    "    .rename(columns={0: \"counts\"})\n",
    ")\n",
    "\n",
    "\n",
    "orders_by_day = (\n",
    "    (df_orders_window[\"Created at\"].dt.day_name().value_counts().rename_axis(\"unique_values\").to_frame(\"counts\"))\n",
    "    .reindex([\"Monday\", \"Tuesday\", \"Wednesday\", \"Thursday\", \"Friday\", \"Saturday\", \"Sunday\"])\n",
    "    .reset_index()\n",
    "    .rename(columns={0: \"counts\"})\n",
    ")\n",
    "\n",
    "\n",
    "audience_plots = dp.Group(\n",
    "    dp.Plot(\n",
    "        a.plot_value_counts(\n",
    "            orders_by_customer,\n",
    "            title=f\"Total number of orders: {len(df_orders_window)}\",\n",
    "            scale=\"log\",\n",
    "        )\n",
    "    ),\n",
    "    dp.Plot(a.plot_value_counts(orders_by_day, title=\"Orders by day of week\", bar_color=\"#E7088E\")),\n",
    "    dp.Plot(a.plot_aov_histogram(df_orders_window)),\n",
    "    columns=3,\n",
    ")\n",
    "\n",
    "audience_plots"
   ]
  },
  {
   "cell_type": "code",
   "execution_count": null,
   "id": "2fe54f19-62dc-414a-9c81-b83cb02aa189",
   "metadata": {
    "tags": []
   },
   "outputs": [],
   "source": [
    "# Top Product\n",
    "top_product = textwrap.shorten(\n",
    "    df_items_window[\"Lineitem name\"].value_counts().index[0],\n",
    "    width=20,\n",
    "    placeholder=\"...\",\n",
    ")\n",
    "bn_top_product = dp.BigNumber(\"Top Product\", top_product)\n",
    "bn_top_product\n",
    "\n",
    "# Top SKU\n",
    "top_sku = df_items_window[\"Lineitem sku\"].value_counts().index[2]\n",
    "bn_top_sku = dp.BigNumber(\"Top SKU\", top_sku)\n",
    "bn_top_sku\n",
    "\n",
    "# Top Discount Code\n",
    "top_discount_code = df_items_window[\"Discount Code\"].value_counts().index[2]\n",
    "bn_top_discount_code = dp.BigNumber(\"Top Discount Code\", top_discount_code)\n",
    "bn_top_discount_code\n",
    "\n",
    "# Top City\n",
    "zipcodes = list(\n",
    "    np.where(\n",
    "        df_orders_window[\"Shipping Zip\"].str.len() == 5,\n",
    "        df_orders_window[\"Shipping Zip\"],\n",
    "        df_orders_window[\"Shipping Zip\"].str[:5],\n",
    "    )\n",
    ")\n",
    "\n",
    "top_city = df_zipcode_lookup[df_zipcode_lookup.index.isin(zipcodes)][\"place_name\"].value_counts().index[0]\n",
    "bn_top_city = dp.BigNumber(\"Top City\", top_city)\n",
    "bn_top_city\n",
    "\n",
    "audience_tops = dp.Group(\n",
    "    bn_top_product,\n",
    "    bn_top_discount_code,\n",
    "    bn_top_sku,\n",
    "    bn_top_city,\n",
    ")\n",
    "\n",
    "audience_tops"
   ]
  },
  {
   "cell_type": "code",
   "execution_count": null,
   "id": "c488aa17-8e88-4253-bd5c-5f40116ea8aa",
   "metadata": {
    "tags": []
   },
   "outputs": [],
   "source": [
    "dp.Group(\n",
    "    dp.Group(plot_customer_locations, audience_tops, columns=2, widths=[2, 1]),\n",
    "    audience_plots,\n",
    "    columns=1,\n",
    ")"
   ]
  },
  {
   "cell_type": "markdown",
   "id": "e3b54516-7ec1-4bca-aea2-bf64adc29bf0",
   "metadata": {
    "tags": []
   },
   "source": [
    "## Market Basket"
   ]
  },
  {
   "cell_type": "markdown",
   "id": "b6e7edfe-a12b-4143-8e37-626fa06d8fa1",
   "metadata": {
    "tags": []
   },
   "source": [
    "Frequency of popular items"
   ]
  },
  {
   "cell_type": "code",
   "execution_count": null,
   "id": "f56708a7-8d9d-496e-b1a2-af108bac992c",
   "metadata": {
    "tags": []
   },
   "outputs": [],
   "source": [
    "top_10_products = (\n",
    "    df_items_window[\"Lineitem name\"]\n",
    "    .value_counts()\n",
    "    .rename_axis(\"unique_values\")\n",
    "    .to_frame(\"counts\")\n",
    "    .reset_index()\n",
    "    .rename(columns={0: \"counts\"})\n",
    "    .head(10)\n",
    ")"
   ]
  },
  {
   "cell_type": "markdown",
   "id": "112557a7-bd6e-4b59-b5e7-ccd62cb4aa02",
   "metadata": {},
   "source": [
    "Item combinations per order. Start with one-hot encoding."
   ]
  },
  {
   "cell_type": "code",
   "execution_count": null,
   "id": "95b71cd2-9f03-462b-a45c-ce6c4d9c5e35",
   "metadata": {
    "tags": []
   },
   "outputs": [],
   "source": [
    "frequent_combinations = a.frequent_product_combinations(df_items_window)\n",
    "\n",
    "dp.Group(\n",
    "    dp.Table(frequent_combinations),\n",
    "    dp.Plot(a.plot_value_counts(top_10_products, \"Top 10 Products\", bar_color=\"#4340B1\")),\n",
    "    columns=2,\n",
    "    widths=[6, 4],\n",
    ")"
   ]
  },
  {
   "cell_type": "code",
   "execution_count": null,
   "id": "7d36434d-2bb4-453a-acf9-d68f59d1056f",
   "metadata": {
    "tags": []
   },
   "outputs": [],
   "source": [
    "df_calmap = (\n",
    "    (df_orders_window[\"Created at\"].dt.date.value_counts().rename_axis(\"Date\").to_frame(\"Orders\"))\n",
    "    .reset_index()\n",
    "    .rename(columns={0: \"counts\"})\n",
    ")\n",
    "\n",
    "\n",
    "df, year, last_sample_date = calendar_heatmap.wrangle_df(df_calmap, year=2023)\n",
    "\n",
    "calendar_heatmap.plot_heatmap(\"Orders\", df, legend=True, color_scheme=\"cividis\")"
   ]
  },
  {
   "cell_type": "code",
   "execution_count": null,
   "id": "b9d0cc27-e6af-4ccd-9072-c55a7ff02620",
   "metadata": {
    "tags": []
   },
   "outputs": [],
   "source": [
    "from datapane_components import calendar_heatmap"
   ]
  },
  {
   "cell_type": "markdown",
   "id": "9595374c-a5dd-4be5-a14c-d42ba03c5346",
   "metadata": {},
   "source": [
    "## Cohort analysis"
   ]
  },
  {
   "cell_type": "code",
   "execution_count": null,
   "id": "e8ed8bce-af8a-4af4-a255-08d0a027ec07",
   "metadata": {
    "tags": []
   },
   "outputs": [],
   "source": [
    "retention_fig, avg_order_fig = a.cohort_analysis(df_orders_window)\n",
    "dp.Group(dp.Plot(retention_fig), dp.Plot(avg_order_fig), columns=2)"
   ]
  },
  {
   "cell_type": "code",
   "execution_count": null,
   "id": "5011990c-fcf6-4696-9525-7d5ea91eff86",
   "metadata": {
    "tags": []
   },
   "outputs": [],
   "source": [
    "def f(Window: str):\n",
    "    if Window == \"Last week\":\n",
    "        delta = relativedelta(weeks=1)\n",
    "    elif Window == \"Last month\":\n",
    "        delta = relativedelta(months=1)\n",
    "    elif Window == \"Last 3 months\":\n",
    "        delta = relativedelta(months=3)\n",
    "    elif Window == \"Last year\":\n",
    "        delta = relativedelta(year=1)\n",
    "\n",
    "    return dp.Text(str(delta))\n",
    "\n",
    "\n",
    "form = dp.Form(\n",
    "    on_submit=f,\n",
    "    controls=dict(\n",
    "        Window=dp.Choice(\n",
    "            \"choice\",\n",
    "            initial=\"Last month\",\n",
    "            options=[\"Last week\", \"Last month\", \"Last 3 months\", \"Last year\"],\n",
    "        )\n",
    "    ),\n",
    ")"
   ]
  },
  {
   "cell_type": "code",
   "execution_count": null,
   "id": "78c00ef0-b114-4ac0-aa10-56283788b2fe",
   "metadata": {
    "tags": []
   },
   "outputs": [],
   "source": [
    "v = dp.Blocks(\n",
    "    form,\n",
    "    dp.Group(\n",
    "        dp.Group(plot_customer_locations, audience_tops, columns=2, widths=[2, 1]),\n",
    "        audience_plots,\n",
    "        columns=1,\n",
    "    ),\n",
    "    dp.Group(\n",
    "        dp.Table(frequent_combinations),\n",
    "        dp.Plot(a.plot_value_counts(top_10_products, \"Top 10 Products\", bar_color=\"#4340B1\")),\n",
    "        columns=2,\n",
    "        widths=[6, 4],\n",
    "    ),\n",
    "    dp.Group(calendar_heatmap.plot_heatmap(\"Orders\", df, legend=True, color_scheme=\"cividis\")),\n",
    "    dp.Group(dp.Plot(retention_fig), dp.Plot(avg_order_fig), columns=2),\n",
    ")\n",
    "\n",
    "v"
   ]
  },
  {
   "cell_type": "code",
   "execution_count": null,
   "id": "e07dcf46-ce21-4e26-9a3d-a37b9953ae1c",
   "metadata": {
    "tags": []
   },
   "outputs": [],
   "source": [
    "dp.serve_app(v)"
   ]
  }
 ],
 "metadata": {
  "kernelspec": {
   "display_name": "Python 3 (ipykernel)",
   "language": "python",
   "name": "python3"
  },
  "language_info": {
   "codemirror_mode": {
    "name": "ipython",
    "version": 3
   },
   "file_extension": ".py",
   "mimetype": "text/x-python",
   "name": "python",
   "nbconvert_exporter": "python",
   "pygments_lexer": "ipython3",
   "version": "3.11.2"
  }
 },
 "nbformat": 4,
 "nbformat_minor": 5
}
