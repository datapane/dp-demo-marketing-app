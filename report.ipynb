{
 "cells": [
  {
   "cell_type": "code",
   "execution_count": 1,
   "id": "306e3d92-c711-48bd-954b-c741a5221a8b",
   "metadata": {
    "tags": []
   },
   "outputs": [],
   "source": [
    "import datetime\n",
    "import locale\n",
    "\n",
    "import datapane as dp\n",
    "import pandas as pd\n",
    "\n",
    "from zoneinfo import ZoneInfo"
   ]
  },
  {
   "cell_type": "markdown",
   "id": "f19545b4-d2b4-4b2e-9828-92b5a3664413",
   "metadata": {},
   "source": [
    "## Dates\n",
    "\n",
    "We'll create `datetime_now` to simulate running `datetime.now()` at the start of the PyData slot."
   ]
  },
  {
   "cell_type": "code",
   "execution_count": 2,
   "id": "7f8beb98-f9ed-4f69-a76e-f40ec5b3381c",
   "metadata": {
    "tags": []
   },
   "outputs": [
    {
     "data": {
      "text/plain": [
       "datetime.datetime(2023, 4, 27, 10, 15, tzinfo=zoneinfo.ZoneInfo(key='US/Pacific'))"
      ]
     },
     "execution_count": 2,
     "metadata": {},
     "output_type": "execute_result"
    }
   ],
   "source": [
    "datetime_now = datetime.datetime(\n",
    "    2023, 4, 27, 10, 15, 0, 0, tzinfo=ZoneInfo(\"US/Pacific\")\n",
    ")\n",
    "datetime_now"
   ]
  },
  {
   "cell_type": "markdown",
   "id": "2ad5782d-afb3-48f8-b1ed-aa1c0b6867a1",
   "metadata": {
    "tags": []
   },
   "source": [
    "## Currency"
   ]
  },
  {
   "cell_type": "code",
   "execution_count": 3,
   "id": "e00eda98-8887-4c1b-8381-2ae5afcfdd32",
   "metadata": {
    "tags": []
   },
   "outputs": [
    {
     "data": {
      "text/plain": [
       "'en_US.UTF-8'"
      ]
     },
     "execution_count": 3,
     "metadata": {},
     "output_type": "execute_result"
    }
   ],
   "source": [
    "locale.setlocale(locale.LC_ALL, \"en_US.UTF-8\")"
   ]
  },
  {
   "cell_type": "markdown",
   "id": "da787a52-c325-4ff1-aed3-931dc1accf37",
   "metadata": {},
   "source": [
    "## Dataset"
   ]
  },
  {
   "cell_type": "code",
   "execution_count": 4,
   "id": "271827f6-8e37-47c5-84f3-bd2a7ad18a88",
   "metadata": {
    "tags": []
   },
   "outputs": [],
   "source": [
    "df_orders = pd.read_csv(\"data/order.csv\", parse_dates=[\"Created at\"])\n",
    "df_items = pd.read_csv(\"data/items.csv\", parse_dates=[\"Created at\"], low_memory=False)\n",
    "df_customers = pd.read_csv(\"data/cust.csv\", parse_dates=[\"first_order\", \"last_order\"])"
   ]
  },
  {
   "cell_type": "markdown",
   "id": "478fac4f-7e04-4690-b10f-5e919a03e6b8",
   "metadata": {},
   "source": [
    "## Window"
   ]
  },
  {
   "cell_type": "markdown",
   "id": "71a9eb35-efae-4930-816e-fe8973095f09",
   "metadata": {},
   "source": [
    "Define a 30-day window."
   ]
  },
  {
   "cell_type": "code",
   "execution_count": 5,
   "id": "7ba0c82c-0a16-4f8d-ae88-3d574e0513e3",
   "metadata": {
    "tags": []
   },
   "outputs": [
    {
     "name": "stdout",
     "output_type": "stream",
     "text": [
      "2023-03-28 to 2023-04-27 is 30 days\n"
     ]
    }
   ],
   "source": [
    "def get_window(df, date_col, window_start, window_end):\n",
    "    window = df[(df[date_col] > window_start) & (df[date_col] < window_end)]\n",
    "    previous_period_window = df[\n",
    "        (df[date_col] > window_start - (window_end - window_start))\n",
    "        & (df[date_col] < window_start)\n",
    "    ]\n",
    "    return window, previous_period_window\n",
    "\n",
    "\n",
    "window_end = datetime_now\n",
    "window_start = datetime_now - datetime.timedelta(days=30)\n",
    "\n",
    "df_orders_window, df_orders_window_previous = get_window(\n",
    "    df_orders, \"Created at\", window_start, window_end\n",
    ")\n",
    "df_customers_window, df_customers_window_previous = get_window(\n",
    "    df_customers, \"first_order\", window_start, window_end\n",
    ")\n",
    "\n",
    "print(\n",
    "    f\"{window_start.date()} to {window_end.date()} is {(window_end-window_start).days} days\"\n",
    ")"
   ]
  },
  {
   "cell_type": "markdown",
   "id": "1f4634ce-938e-4f24-a958-d269c5a1f432",
   "metadata": {},
   "source": [
    "## Summary stats"
   ]
  },
  {
   "cell_type": "markdown",
   "id": "1e03fff0-0230-4333-a3a9-d2c69919063f",
   "metadata": {},
   "source": [
    "30 day stats (sales, aov, new customers, new orders, etc.)"
   ]
  },
  {
   "cell_type": "code",
   "execution_count": 6,
   "id": "99d2dbbd-9dd3-49e8-a31a-3ada2303db26",
   "metadata": {
    "tags": []
   },
   "outputs": [
    {
     "data": {
      "text/html": [
       "<style>\n",
       "  #dp-c5fd4c5efb264228bc9dd520d44079cb {\n",
       "    width: 1px;\n",
       "    min-width: 100%;\n",
       "  }\n",
       "</style>\n",
       "<script\n",
       "  src=\"https://cdnjs.cloudflare.com/ajax/libs/iframe-resizer/4.3.2/iframeResizer.min.js\"\n",
       "  integrity=\"sha512-dnvR4Aebv5bAtJxDunq3eE8puKAJrY9GBJYl9GC6lTOEC76s1dbDfJFcL9GyzpaDW4vlI/UjR8sKbc1j6Ynx6w==\"\n",
       "  crossorigin=\"anonymous\"\n",
       "  referrerpolicy=\"no-referrer\"\n",
       "></script>\n",
       "<iframe id=\"dp-c5fd4c5efb264228bc9dd520d44079cb\" srcdoc=\"&lt;!DOCTYPE html&gt;\n",
       "&lt;html lang=&quot;en&quot;&gt;\n",
       "  &lt;head&gt;\n",
       "&lt;meta charset=&quot;UTF-8&quot; /&gt;\n",
       "\n",
       "&lt;link rel=&quot;shortcut icon&quot; type=&quot;image/png&quot; href=&quot;https://datapane-cdn.com/static/v1/datapane-icon-192x192.png&quot;/&gt;\n",
       "&lt;link rel=&quot;shortcut icon&quot; sizes=&quot;192x192&quot; href=&quot;https://datapane-cdn.com/static/v1/datapane-icon-192x192.png&quot;/&gt;\n",
       "&lt;link rel=&quot;apple-touch-icon&quot; href=&quot;https://datapane-cdn.com/static/v1/datapane-icon-192x192.png&quot;/&gt;\n",
       "\n",
       "&lt;script src=&quot;https://kit.fontawesome.com/256c714d9a.js&quot;&gt;&lt;/script&gt;\n",
       "&lt;link\n",
       "  href=&quot;https://fonts.googleapis.com/css?family=Inter:400,500,600,700|Inconsolata|Karla|Rubik&amp;display=swap&quot;\n",
       "  rel=&quot;stylesheet&quot;\n",
       "/&gt;\n",
       "&lt;link rel=&quot;stylesheet&quot; href=&quot;https://datapane-cdn.com/v0.16.1/report/index.css&quot; /&gt;\n",
       "&lt;link rel=&quot;stylesheet&quot; href=&quot;https://datapane-cdn.com/v0.16.1/report/tailwind.css&quot; /&gt;\n",
       "&lt;script&gt;\n",
       "  // analytics config\n",
       "  // TODO -- pass these in as props for consistency?\n",
       "  window.dpAppRunner = &quot;False&quot; === &quot;True&quot;;\n",
       "  window.dpLocal = true;\n",
       "    window.dpLocalViewEvent = true;\n",
       "    window.dpReportId = &quot;c5fd4c5efb264228bc9dd520d44079cb&quot;;\n",
       "    window.dpAuthorId = &quot;3eb9ced5f4fc4b38b6875826a9e18f5b&quot;;\n",
       "\n",
       "  /* construct the view */\n",
       "  const htmlHeader = `&lt;style type=&quot;text/css&quot;&gt;:root {\n",
       "    --dp-accent-color: #4E46E5;\n",
       "    --dp-bg-color: #FFF;\n",
       "    --dp-text-align: justify;\n",
       "    --dp-font-family: Inter var, ui-sans-serif, system-ui;\n",
       "}&lt;/style&gt;`;\n",
       "  window.reportProps = { htmlHeader, isLightProse: false, isOrg: false, mode: &quot;VIEW&quot;, reportWidthClass: &quot;max-w-screen-xl&quot; };\n",
       "\n",
       "  if (!window.dpAppRunner) {\n",
       "      // pass app data via props if in local (static) mode, otherwise this data is fetched from the server\n",
       "      window.reportProps[&quot;appData&quot;] = { data: { result: {&quot;view_xml&quot;: &quot;\\u003cView version=\\&quot;1\\&quot; fragment=\\&quot;false\\&quot;\\u003e\\u003cGroup columns=\\&quot;3\\&quot; valign=\\&quot;top\\&quot;\\u003e\\u003cBigNumber heading=\\&quot;Orders Created\\&quot; value=\\&quot;5,728\\&quot; change=\\&quot;2,179\\&quot; is_positive_intent=\\&quot;true\\&quot; is_upward_change=\\&quot;true\\&quot;/\\u003e\\u003cBigNumber heading=\\&quot;Sales Completed\\&quot; value=\\&quot;5,605\\&quot; change=\\&quot;2,099\\&quot; is_positive_intent=\\&quot;true\\&quot; is_upward_change=\\&quot;true\\&quot;/\\u003e\\u003cBigNumber heading=\\&quot;New Customers\\&quot; value=\\&quot;4,177\\&quot; change=\\&quot;2,385\\&quot; is_positive_intent=\\&quot;true\\&quot; is_upward_change=\\&quot;true\\&quot;/\\u003e\\u003cBigNumber heading=\\&quot;Returning Customers\\&quot; value=\\&quot;1,084\\&quot; change=\\&quot;-221\\&quot; is_positive_intent=\\&quot;false\\&quot; is_upward_change=\\&quot;false\\&quot;/\\u003e\\u003cBigNumber heading=\\&quot;Revenue Generated\\&quot; value=\\&quot;$425,985.09\\&quot; change=\\&quot;$178,422.41\\&quot; is_positive_intent=\\&quot;true\\&quot; is_upward_change=\\&quot;true\\&quot;/\\u003e\\u003cBigNumber heading=\\&quot;AOV\\&quot; value=\\&quot;$74.37\\&quot; change=\\&quot;$4.61\\&quot; is_positive_intent=\\&quot;true\\&quot; is_upward_change=\\&quot;true\\&quot;/\\u003e\\u003c/Group\\u003e\\u003c/View\\u003e&quot;, &quot;assets&quot;: {}} }};\n",
       "  }\n",
       "&lt;/script&gt;\n",
       "&lt;script type=&quot;module&quot;&gt;\n",
       "  import { mountReport } from &quot;https://datapane-cdn.com/v0.16.1/report/index.es.js&quot;;\n",
       "  mountReport(window.reportProps);\n",
       "&lt;/script&gt;\n",
       "  &lt;/head&gt;\n",
       "  &lt;script&gt;\n",
       "    window.isIPythonEmbed = true;\n",
       "  &lt;/script&gt;\n",
       "  &lt;body&gt;\n",
       "    &lt;main class=&quot;max-w-screen-xl w-full mx-auto&quot;&gt;\n",
       "      &lt;div id=&quot;report&quot; class=&quot;w-full&quot;&gt;&lt;/div&gt;\n",
       "    &lt;/main&gt;\n",
       "    &lt;script src=&quot;https://cdnjs.cloudflare.com/ajax/libs/iframe-resizer/4.3.2/iframeResizer.contentWindow.min.js&quot; integrity=&quot;sha512-14SY6teTzhrLWeL55Q4uCyxr6GQOxF3pEoMxo2mBxXwPRikdMtzKMYWy2B5Lqjr6PHHoGOxZgPaxUYKQrSmu0A==&quot; crossorigin=&quot;anonymous&quot; referrerpolicy=&quot;no-referrer&quot;&gt;&lt;/script&gt;\n",
       "  &lt;/body&gt;\n",
       "&lt;/html&gt;\n",
       "\" style=\"border: none\">\n",
       "</iframe>\n",
       "<script>\n",
       "  iFrameResize({ log: true, checkOrigin: false }, \"#dp-c5fd4c5efb264228bc9dd520d44079cb\");\n",
       "</script>\n"
      ],
      "text/plain": [
       "<IPython.core.display.HTML object>"
      ]
     },
     "metadata": {},
     "output_type": "display_data"
    }
   ],
   "source": [
    "def summary_stats(df_orders, df_customers):\n",
    "    stats = {}\n",
    "    stats[\"orders\"] = len(df_orders)\n",
    "    stats[\"sales\"] = len(df_orders[df_orders[\"Financial Status\"] == \"paid\"])\n",
    "    stats[\"aov\"] = df_orders.Total.mean()\n",
    "    stats[\"revenue\"] = df_orders.Total.sum()\n",
    "    stats[\"new_customers\"] = len(df_customers)\n",
    "    stats[\"returning_customers\"] = (\n",
    "        len(df_orders.Cust_ID.unique()) - stats[\"new_customers\"]\n",
    "    )\n",
    "    return pd.DataFrame.from_dict(stats, orient=\"index\").T\n",
    "\n",
    "\n",
    "stats_current_period = summary_stats(df_orders_window, df_customers_window)\n",
    "stats_previous_period = summary_stats(\n",
    "    df_orders_window_previous, df_customers_window_previous\n",
    ")\n",
    "stats_delta = stats_current_period - stats_previous_period\n",
    "stats_upward_change = stats_delta > 0\n",
    "\n",
    "block_summary_stats = dp.Group(\n",
    "    dp.BigNumber(\n",
    "        \"Orders Created\",\n",
    "        f\"{stats_current_period['orders'].item():n}\",\n",
    "        f\"{stats_delta['orders'].item():n}\",\n",
    "        is_upward_change=stats_upward_change[\"orders\"].item(),\n",
    "    ),\n",
    "    dp.BigNumber(\n",
    "        \"Sales Completed\",\n",
    "        f\"{stats_current_period['sales'].item():n}\",\n",
    "        f\"{stats_delta['sales'].item():n}\",\n",
    "        is_upward_change=stats_upward_change[\"sales\"].item(),\n",
    "    ),\n",
    "    dp.BigNumber(\n",
    "        \"New Customers\",\n",
    "        f\"{stats_current_period['new_customers'].item():n}\",\n",
    "        f\"{stats_delta['new_customers'].item():n}\",\n",
    "        is_upward_change=stats_upward_change[\"new_customers\"].item(),\n",
    "    ),\n",
    "    dp.BigNumber(\n",
    "        \"Returning Customers\",\n",
    "        f\"{stats_current_period['returning_customers'].item():n}\",\n",
    "        f\"{stats_delta['returning_customers'].item():n}\",\n",
    "        is_upward_change=stats_upward_change[\"returning_customers\"].item(),\n",
    "    ),\n",
    "    dp.BigNumber(\n",
    "        \"Revenue Generated\",\n",
    "        locale.currency(stats_current_period[\"revenue\"].item(), grouping=True),\n",
    "        locale.currency(stats_delta[\"revenue\"].item(), grouping=True),\n",
    "        is_upward_change=stats_upward_change[\"revenue\"].item(),\n",
    "    ),\n",
    "    dp.BigNumber(\n",
    "        \"AOV\",\n",
    "        locale.currency(stats_current_period[\"aov\"].item(), grouping=True),\n",
    "        locale.currency(stats_delta[\"aov\"].item(), grouping=True),\n",
    "        is_upward_change=stats_upward_change[\"aov\"].item(),\n",
    "    ),\n",
    "    columns=3,\n",
    ")\n",
    "\n",
    "block_summary_stats"
   ]
  },
  {
   "cell_type": "markdown",
   "id": "5a462e3d-bc38-4e48-b9af-0a3261845e8a",
   "metadata": {},
   "source": [
    "## Audiences"
   ]
  }
 ],
 "metadata": {
  "kernelspec": {
   "display_name": "Python 3 (ipykernel)",
   "language": "python",
   "name": "python3"
  },
  "language_info": {
   "codemirror_mode": {
    "name": "ipython",
    "version": 3
   },
   "file_extension": ".py",
   "mimetype": "text/x-python",
   "name": "python",
   "nbconvert_exporter": "python",
   "pygments_lexer": "ipython3",
   "version": "3.10.9"
  }
 },
 "nbformat": 4,
 "nbformat_minor": 5
}
