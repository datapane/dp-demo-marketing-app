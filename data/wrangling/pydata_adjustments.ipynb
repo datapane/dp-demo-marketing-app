{
 "cells": [
  {
   "cell_type": "code",
   "execution_count": null,
   "id": "c3b31d89-485e-42c0-b8c7-d68b84a9691a",
   "metadata": {},
   "outputs": [],
   "source": [
    "import pandas as pd\n",
    "import datapane as dp\n",
    "import datetime\n",
    "import pytz"
   ]
  },
  {
   "cell_type": "code",
   "execution_count": null,
   "id": "d7e037c5-1480-4803-9f7f-550d14fedb28",
   "metadata": {
    "tags": []
   },
   "outputs": [],
   "source": [
    "df = pd.read_csv(\"source/cust_pub4.csv\")\n",
    "\n",
    "dp.DataTable(df.head())"
   ]
  },
  {
   "cell_type": "code",
   "execution_count": null,
   "id": "ff09c773-0488-415e-8000-483a73256e24",
   "metadata": {},
   "outputs": [],
   "source": [
    "date_cols = [\n",
    "    \"Paid at\",\n",
    "    \"Fulfilled at\",\n",
    "    \"Created at\",\n",
    "]  # \"Cancelled at\" dropped in wrangler"
   ]
  },
  {
   "cell_type": "markdown",
   "id": "cd81a33a-7c27-4ec0-aac4-232ad39d8810",
   "metadata": {},
   "source": [
    "The original data includes entries up until ..."
   ]
  },
  {
   "cell_type": "code",
   "execution_count": null,
   "id": "4215f65e-dc70-4b8b-af45-5e3cfbb8d19a",
   "metadata": {},
   "outputs": [],
   "source": [
    "last_entry = df[\"Created at\"].max()\n",
    "last_entry"
   ]
  },
  {
   "cell_type": "markdown",
   "id": "f1f72b58-6288-4797-b444-9b73fd285832",
   "metadata": {},
   "source": [
    "Let's adjust all the dates such that the latest entry occurs as close the 10.15 AM on the 27th of April (a Thurday) as possible.\n",
    "\n",
    "First, we'll drop all dates after the most recent 27th of April."
   ]
  },
  {
   "cell_type": "code",
   "execution_count": null,
   "id": "a64d0dee-2613-4671-8258-0647eab584f8",
   "metadata": {
    "tags": []
   },
   "outputs": [],
   "source": [
    "df = df[(df[\"Created at\"] < \"2020-04-28\")]"
   ]
  },
  {
   "cell_type": "markdown",
   "id": "793b89b3-1164-47d4-bf83-f1094d5e3df1",
   "metadata": {},
   "source": [
    "Add three years to the dates"
   ]
  },
  {
   "cell_type": "code",
   "execution_count": null,
   "id": "d1e63448-47ea-48f1-aeb6-1d29b0d4e820",
   "metadata": {
    "tags": []
   },
   "outputs": [],
   "source": [
    "for date_col in date_cols:\n",
    "    df[date_col] = pd.to_datetime(df[date_col], utc=True)\n",
    "    df.loc[df[date_col].notnull(), date_col] = df.loc[df[date_col].notnull()][date_col] + pd.offsets.DateOffset(years=3)\n",
    "    df[date_col] = df[date_col].dt.tz_convert(\"US/Pacific\")"
   ]
  },
  {
   "cell_type": "markdown",
   "id": "d8e9f2d0-7370-4287-92ae-740d5bb7d4b3",
   "metadata": {},
   "source": [
    "Check the new latest date"
   ]
  },
  {
   "cell_type": "code",
   "execution_count": null,
   "id": "cb4e8a2a-dc63-4c89-833b-7dcc4419f77b",
   "metadata": {},
   "outputs": [],
   "source": [
    "df[\"Created at\"].max()"
   ]
  },
  {
   "cell_type": "markdown",
   "id": "20df465a-daee-480f-b34b-b7a35efc4ea5",
   "metadata": {},
   "source": [
    "Convert to PST"
   ]
  },
  {
   "cell_type": "markdown",
   "id": "64c460e1-7429-48ef-988b-e195487de8f7",
   "metadata": {
    "tags": []
   },
   "source": [
    "Remove all entires after 10.15 AM"
   ]
  },
  {
   "cell_type": "code",
   "execution_count": null,
   "id": "32506ece-70c1-4290-85d3-ce9ff3ecaebd",
   "metadata": {
    "tags": []
   },
   "outputs": [],
   "source": [
    "df = df[(df[\"Created at\"] < \"2023-04-27 10:15\")]"
   ]
  },
  {
   "cell_type": "code",
   "execution_count": null,
   "id": "5255a1f2-51c3-4ccb-bedf-8fdbceb54481",
   "metadata": {
    "tags": []
   },
   "outputs": [],
   "source": [
    "df[\"Created at\"].max()"
   ]
  },
  {
   "cell_type": "markdown",
   "id": "e5df7254-43c9-4b55-bccf-0536975b56d5",
   "metadata": {},
   "source": [
    "Save to CSV"
   ]
  },
  {
   "cell_type": "code",
   "execution_count": null,
   "id": "2dea5ba0-68bd-4caf-abce-6c6460db9d44",
   "metadata": {
    "tags": []
   },
   "outputs": [],
   "source": [
    "df.to_csv(\"cust_pub4_pydata.csv\")"
   ]
  }
 ],
 "metadata": {
  "kernelspec": {
   "display_name": "Python 3 (ipykernel)",
   "language": "python",
   "name": "python3"
  },
  "language_info": {
   "codemirror_mode": {
    "name": "ipython",
    "version": 3
   },
   "file_extension": ".py",
   "mimetype": "text/x-python",
   "name": "python",
   "nbconvert_exporter": "python",
   "pygments_lexer": "ipython3",
   "version": "3.10.9"
  },
  "vscode": {
   "interpreter": {
    "hash": "88858ba059deef5e3e2f2e09d3c57ec0ad4ebe4d0054782a386552b43f71f68a"
   }
  }
 },
 "nbformat": 4,
 "nbformat_minor": 5
}
