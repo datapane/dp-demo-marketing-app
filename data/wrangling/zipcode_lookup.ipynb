{
 "cells": [
  {
   "cell_type": "code",
   "execution_count": 73,
   "id": "ff987b69-f316-40ea-8580-5a720fa02e4f",
   "metadata": {
    "tags": []
   },
   "outputs": [],
   "source": [
    "import pgeocode\n",
    "\n",
    "import warnings\n",
    "\n",
    "import pandas as pd\n",
    "import numpy as np\n",
    "import time\n",
    "\n",
    "\n",
    "countries = pgeocode.COUNTRIES_VALID\n",
    "countries.insert(0, countries.pop(countries.index(\"US\")))\n",
    "\n",
    "df = pd.read_csv(\"../cust.csv\")\n",
    "\n",
    "df = df.dropna(subset=[\"Ship_Zip\"])"
   ]
  },
  {
   "cell_type": "code",
   "execution_count": 74,
   "id": "eabb70be-aba6-4c3a-b0cd-6faa06c1c8ae",
   "metadata": {
    "tags": []
   },
   "outputs": [],
   "source": [
    "zipcodes = df[\"Ship_Zip\"]"
   ]
  },
  {
   "cell_type": "markdown",
   "id": "e8da672e-bcaf-4112-8dad-0c17b54def75",
   "metadata": {},
   "source": [
    "Keep only the useful part of the zipcode"
   ]
  },
  {
   "cell_type": "code",
   "execution_count": 75,
   "id": "98b01db7-3f44-495e-b13e-bf2bb9586a25",
   "metadata": {
    "tags": []
   },
   "outputs": [],
   "source": [
    "zipcodes = np.where(\n",
    "    df[\"Ship_Zip\"].str.len() == 5, df[\"Ship_Zip\"], df[\"Ship_Zip\"].str[:5]\n",
    ")\n",
    "\n",
    "zipcodes = sorted(zipcodes)"
   ]
  },
  {
   "cell_type": "code",
   "execution_count": 79,
   "id": "9ed931b6-2e14-4207-92ab-cb7505caa1c8",
   "metadata": {
    "tags": []
   },
   "outputs": [
    {
     "name": "stdout",
     "output_type": "stream",
     "text": [
      "Sleeping for 3 seconds, 1000 zipcodes processed\n",
      "Sleeping for 3 seconds, 2000 zipcodes processed\n",
      "Sleeping for 3 seconds, 3000 zipcodes processed\n",
      "Sleeping for 3 seconds, 4000 zipcodes processed\n",
      "Sleeping for 3 seconds, 5000 zipcodes processed\n",
      "Sleeping for 3 seconds, 6000 zipcodes processed\n",
      "Sleeping for 3 seconds, 7000 zipcodes processed\n",
      "Sleeping for 3 seconds, 8000 zipcodes processed\n",
      "Sleeping for 3 seconds, 9000 zipcodes processed\n",
      "Sleeping for 3 seconds, 10000 zipcodes processed\n"
     ]
    }
   ],
   "source": [
    "zipcode_lookup = {}\n",
    "\n",
    "for zipcode in zipcodes:\n",
    "    if zipcode not in zipcode_lookup:\n",
    "        for i in countries:\n",
    "            with warnings.catch_warnings():\n",
    "                warnings.simplefilter(\"ignore\")\n",
    "                nomi = pgeocode.Nominatim(i)\n",
    "                result = nomi.query_postal_code(zipcode)\n",
    "                if not np.isnan(result[\"accuracy\"]):\n",
    "                    break\n",
    "\n",
    "        if not np.isnan(result[\"accuracy\"]):\n",
    "            zipcode_lookup[zipcode] = result.replace(np.nan, None).to_dict()\n",
    "\n",
    "        if len(zipcode_lookup) % 1000 == 0:\n",
    "            print(f\"Sleeping for 3 seconds, {len(zipcode_lookup)} zipcodes processed\")\n",
    "            time.sleep(3)"
   ]
  },
  {
   "cell_type": "code",
   "execution_count": 90,
   "id": "93affef5-256c-4c1e-83b6-fde7488c39a7",
   "metadata": {
    "tags": []
   },
   "outputs": [],
   "source": [
    "import json\n",
    "\n",
    "with open(\"../zipcode_lookup.json\", \"w\") as f:\n",
    "    json.dump(zipcode_lookup, f)"
   ]
  }
 ],
 "metadata": {
  "kernelspec": {
   "display_name": "Python 3 (ipykernel)",
   "language": "python",
   "name": "python3"
  },
  "language_info": {
   "codemirror_mode": {
    "name": "ipython",
    "version": 3
   },
   "file_extension": ".py",
   "mimetype": "text/x-python",
   "name": "python",
   "nbconvert_exporter": "python",
   "pygments_lexer": "ipython3",
   "version": "3.10.9"
  }
 },
 "nbformat": 4,
 "nbformat_minor": 5
}
